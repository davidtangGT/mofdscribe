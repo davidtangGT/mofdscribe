{
 "cells": [
  {
   "cell_type": "markdown",
   "metadata": {},
   "source": [
    "# Running MOFBench baselines for the `logKH_CO2_ood` task"
   ]
  },
  {
   "cell_type": "code",
   "execution_count": 1,
   "metadata": {},
   "outputs": [],
   "source": [
    "%load_ext autoreload\n",
    "%autoreload 2"
   ]
  },
  {
   "cell_type": "code",
   "execution_count": 2,
   "metadata": {},
   "outputs": [],
   "source": [
    "from mofdscribe.bench.dummy_models import DummyRegressor\n",
    "from mofdscribe.bench.df_model import DFModel\n",
    "from mofdscribe.bench.logkHCO2 import LogkHCO2OODBench\n",
    "from mofdscribe.datasets import CoREDataset\n",
    "from xgboost import XGBRegressor"
   ]
  },
  {
   "cell_type": "code",
   "execution_count": 3,
   "metadata": {},
   "outputs": [
    {
     "name": "stderr",
     "output_type": "stream",
     "text": [
      "2022-08-09 17:45:14.340 | DEBUG    | mofdscribe.datasets.core_dataset:__init__:131 - Dropped 3227 duplicate basenames. New length 2166\n",
      "2022-08-09 17:45:14.370 | DEBUG    | mofdscribe.datasets.core_dataset:__init__:137 - Dropped 62 duplicate graphs. New length 2104\n",
      "2022-08-09 17:45:18.141 | DEBUG    | mofdscribe.datasets.core_dataset:__init__:131 - Dropped 3227 duplicate basenames. New length 2166\n",
      "2022-08-09 17:45:18.171 | DEBUG    | mofdscribe.datasets.core_dataset:__init__:137 - Dropped 62 duplicate graphs. New length 2104\n",
      "2022-08-09 17:45:18.210 | DEBUG    | mofdscribe.splitters.splitters:__init__:116 - Splitter settings | shuffle True, random state None, sample frac 1.0, q (0, 0.25, 0.5, 0.75, 1)\n"
     ]
    }
   ],
   "source": [
    "dummy_mean_bench = LogkHCO2OODBench(DummyRegressor(),\n",
    "    name = 'dummy-mean-model',\n",
    "    features='None', \n",
    "    implementation='mofdscribe',\n",
    "    model_type='dummy'\n",
    ")"
   ]
  },
  {
   "cell_type": "code",
   "execution_count": 4,
   "metadata": {},
   "outputs": [
    {
     "name": "stderr",
     "output_type": "stream",
     "text": [
      "2022-08-09 17:45:18.292 | DEBUG    | mofdscribe.bench.mofbench:_score:317 - K-fold round 0, 1644 train points, 412 test points\n",
      "2022-08-09 17:45:18.295 | DEBUG    | mofdscribe.bench.mofbench:_score:317 - K-fold round 1, 1645 train points, 411 test points\n",
      "2022-08-09 17:45:18.297 | DEBUG    | mofdscribe.bench.mofbench:_score:317 - K-fold round 2, 1645 train points, 411 test points\n",
      "2022-08-09 17:45:18.299 | DEBUG    | mofdscribe.bench.mofbench:_score:317 - K-fold round 3, 1645 train points, 411 test points\n",
      "2022-08-09 17:45:18.300 | DEBUG    | mofdscribe.bench.mofbench:_score:317 - K-fold round 4, 1645 train points, 411 test points\n"
     ]
    }
   ],
   "source": [
    "dummy_mean_bench_results = dummy_mean_bench.bench()"
   ]
  },
  {
   "cell_type": "code",
   "execution_count": 5,
   "metadata": {},
   "outputs": [],
   "source": [
    "dummy_mean_bench_results.save_json('../../bench_results/logKH_CO2_ood/v0.0.1/')\n",
    "dummy_mean_bench_results.save_rst('../../bench_results/logKH_CO2_ood/v0.0.1/')"
   ]
  },
  {
   "cell_type": "code",
   "execution_count": 6,
   "metadata": {},
   "outputs": [
    {
     "name": "stderr",
     "output_type": "stream",
     "text": [
      "2022-08-09 17:45:22.824 | DEBUG    | mofdscribe.datasets.core_dataset:__init__:131 - Dropped 3227 duplicate basenames. New length 2166\n",
      "2022-08-09 17:45:22.858 | DEBUG    | mofdscribe.datasets.core_dataset:__init__:137 - Dropped 62 duplicate graphs. New length 2104\n",
      "2022-08-09 17:45:26.689 | DEBUG    | mofdscribe.datasets.core_dataset:__init__:131 - Dropped 3227 duplicate basenames. New length 2166\n",
      "2022-08-09 17:45:26.716 | DEBUG    | mofdscribe.datasets.core_dataset:__init__:137 - Dropped 62 duplicate graphs. New length 2104\n",
      "2022-08-09 17:45:26.750 | DEBUG    | mofdscribe.splitters.splitters:__init__:116 - Splitter settings | shuffle True, random state None, sample frac 1.0, q (0, 0.25, 0.5, 0.75, 1)\n"
     ]
    }
   ],
   "source": [
    "dummy_median_bench = LogkHCO2OODBench(DummyRegressor(),\n",
    "    name = 'dummy-median-model',\n",
    "    features='None',\n",
    "    implementation='mofdscribe',\n",
    "    model_type='dummy'\n",
    ")"
   ]
  },
  {
   "cell_type": "code",
   "execution_count": 7,
   "metadata": {},
   "outputs": [
    {
     "name": "stderr",
     "output_type": "stream",
     "text": [
      "2022-08-09 17:45:26.914 | DEBUG    | mofdscribe.bench.mofbench:_score:317 - K-fold round 0, 1644 train points, 412 test points\n",
      "2022-08-09 17:45:26.917 | DEBUG    | mofdscribe.bench.mofbench:_score:317 - K-fold round 1, 1645 train points, 411 test points\n",
      "2022-08-09 17:45:26.919 | DEBUG    | mofdscribe.bench.mofbench:_score:317 - K-fold round 2, 1645 train points, 411 test points\n",
      "2022-08-09 17:45:26.921 | DEBUG    | mofdscribe.bench.mofbench:_score:317 - K-fold round 3, 1645 train points, 411 test points\n",
      "2022-08-09 17:45:26.923 | DEBUG    | mofdscribe.bench.mofbench:_score:317 - K-fold round 4, 1645 train points, 411 test points\n"
     ]
    }
   ],
   "source": [
    "dummy_median_bench_results = dummy_median_bench.bench()"
   ]
  },
  {
   "cell_type": "code",
   "execution_count": 8,
   "metadata": {},
   "outputs": [],
   "source": [
    "dummy_median_bench_results.save_json('../../bench_results/logKH_CO2_ood/v0.0.1')\n",
    "dummy_median_bench_results.save_rst('../../bench_results/logKH_CO2_ood/v0.0.1')"
   ]
  },
  {
   "cell_type": "markdown",
   "metadata": {},
   "source": [
    "Now, let's use a slightly more fancy model"
   ]
  },
  {
   "cell_type": "code",
   "execution_count": 9,
   "metadata": {},
   "outputs": [
    {
     "name": "stderr",
     "output_type": "stream",
     "text": [
      "2022-08-09 17:45:32.482 | DEBUG    | mofdscribe.datasets.core_dataset:__init__:131 - Dropped 3227 duplicate basenames. New length 2166\n",
      "2022-08-09 17:45:32.575 | DEBUG    | mofdscribe.datasets.core_dataset:__init__:137 - Dropped 62 duplicate graphs. New length 2104\n",
      "2022-08-09 17:45:36.296 | DEBUG    | mofdscribe.datasets.core_dataset:__init__:131 - Dropped 3227 duplicate basenames. New length 2166\n",
      "2022-08-09 17:45:36.322 | DEBUG    | mofdscribe.datasets.core_dataset:__init__:137 - Dropped 62 duplicate graphs. New length 2104\n",
      "2022-08-09 17:45:36.361 | DEBUG    | mofdscribe.splitters.splitters:__init__:116 - Splitter settings | shuffle True, random state None, sample frac 1.0, q (0, 0.25, 0.5, 0.75, 1)\n"
     ]
    }
   ],
   "source": [
    "xgboost_default_baseline = LogkHCO2OODBench(DFModel(XGBRegressor()),\n",
    "    name=\"default-xgboost-default-feat\", \n",
    "    features='default featurset of dataset',\n",
    "    implementation='mofdscribe',\n",
    "    patch_in_ds=True\n",
    ")"
   ]
  },
  {
   "cell_type": "code",
   "execution_count": 10,
   "metadata": {},
   "outputs": [
    {
     "name": "stderr",
     "output_type": "stream",
     "text": [
      "2022-08-09 17:45:39.949 | DEBUG    | mofdscribe.bench.mofbench:_score:317 - K-fold round 0, 1644 train points, 412 test points\n",
      "2022-08-09 17:45:39.950 | DEBUG    | mofdscribe.bench.df_model:fit:36 - Fitting model\n",
      "2022-08-09 17:45:39.966 | DEBUG    | mofdscribe.bench.df_model:fit:38 - (1644, 2387)\n",
      "2022-08-09 17:45:56.809 | DEBUG    | mofdscribe.bench.mofbench:_score:317 - K-fold round 1, 1645 train points, 411 test points\n",
      "2022-08-09 17:45:56.810 | DEBUG    | mofdscribe.bench.df_model:fit:36 - Fitting model\n",
      "2022-08-09 17:45:56.822 | DEBUG    | mofdscribe.bench.df_model:fit:38 - (1645, 2387)\n",
      "2022-08-09 17:46:12.586 | DEBUG    | mofdscribe.bench.mofbench:_score:317 - K-fold round 2, 1645 train points, 411 test points\n",
      "2022-08-09 17:46:12.591 | DEBUG    | mofdscribe.bench.df_model:fit:36 - Fitting model\n",
      "2022-08-09 17:46:12.606 | DEBUG    | mofdscribe.bench.df_model:fit:38 - (1645, 2387)\n",
      "2022-08-09 17:46:28.354 | DEBUG    | mofdscribe.bench.mofbench:_score:317 - K-fold round 3, 1645 train points, 411 test points\n",
      "2022-08-09 17:46:28.356 | DEBUG    | mofdscribe.bench.df_model:fit:36 - Fitting model\n",
      "2022-08-09 17:46:28.374 | DEBUG    | mofdscribe.bench.df_model:fit:38 - (1645, 2387)\n",
      "2022-08-09 17:46:46.551 | DEBUG    | mofdscribe.bench.mofbench:_score:317 - K-fold round 4, 1645 train points, 411 test points\n",
      "2022-08-09 17:46:46.553 | DEBUG    | mofdscribe.bench.df_model:fit:36 - Fitting model\n",
      "2022-08-09 17:46:46.569 | DEBUG    | mofdscribe.bench.df_model:fit:38 - (1645, 2387)\n"
     ]
    }
   ],
   "source": [
    "xgboost_default_baseline_results = xgboost_default_baseline.bench()"
   ]
  },
  {
   "cell_type": "code",
   "execution_count": 11,
   "metadata": {},
   "outputs": [],
   "source": [
    "xgboost_default_baseline_results.save_json('../../bench_results/logKH_CO2_ood/v0.0.1')\n",
    "xgboost_default_baseline_results.save_rst('../../bench_results/logKH_CO2_ood/v0.0.1')"
   ]
  },
  {
   "cell_type": "code",
   "execution_count": null,
   "metadata": {},
   "outputs": [],
   "source": []
  }
 ],
 "metadata": {
  "kernelspec": {
   "display_name": "Python 3.8.13 ('mofdscribe')",
   "language": "python",
   "name": "python3"
  },
  "language_info": {
   "codemirror_mode": {
    "name": "ipython",
    "version": 3
   },
   "file_extension": ".py",
   "mimetype": "text/x-python",
   "name": "python",
   "nbconvert_exporter": "python",
   "pygments_lexer": "ipython3",
   "version": "3.8.13"
  },
  "orig_nbformat": 4,
  "vscode": {
   "interpreter": {
    "hash": "3ffc06f754d7c80b59e39914e7792f1f92938dc6ca13a8ff96847f8f4d27fee3"
   }
  }
 },
 "nbformat": 4,
 "nbformat_minor": 2
}
