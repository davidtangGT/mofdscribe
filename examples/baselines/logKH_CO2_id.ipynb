{
 "cells": [
  {
   "cell_type": "markdown",
   "metadata": {},
   "source": [
    "# Running MOFBench baselines for the `logKH_CO2_id` task"
   ]
  },
  {
   "cell_type": "code",
   "execution_count": 1,
   "metadata": {},
   "outputs": [],
   "source": [
    "%load_ext autoreload\n",
    "%autoreload 2"
   ]
  },
  {
   "cell_type": "code",
   "execution_count": 2,
   "metadata": {},
   "outputs": [],
   "source": [
    "from mofdscribe.bench.dummy_models import DummyRegressor\n",
    "from mofdscribe.bench.df_model import DFModel\n",
    "from mofdscribe.bench.logkHCO2 import LogkHCO2IDBench\n",
    "from mofdscribe.datasets import CoREDataset\n",
    "from xgboost import XGBRegressor"
   ]
  },
  {
   "cell_type": "code",
   "execution_count": 3,
   "metadata": {},
   "outputs": [
    {
     "name": "stderr",
     "output_type": "stream",
     "text": [
      "2022-08-09 17:40:12.497 | DEBUG    | mofdscribe.datasets.core_dataset:__init__:131 - Dropped 3227 duplicate basenames. New length 2166\n",
      "2022-08-09 17:40:12.528 | DEBUG    | mofdscribe.datasets.core_dataset:__init__:137 - Dropped 62 duplicate graphs. New length 2104\n",
      "2022-08-09 17:40:16.225 | DEBUG    | mofdscribe.datasets.core_dataset:__init__:131 - Dropped 3227 duplicate basenames. New length 2166\n",
      "2022-08-09 17:40:16.254 | DEBUG    | mofdscribe.datasets.core_dataset:__init__:137 - Dropped 62 duplicate graphs. New length 2104\n",
      "2022-08-09 17:40:16.290 | DEBUG    | mofdscribe.splitters.splitters:__init__:116 - Splitter settings | shuffle True, random state None, sample frac 1.0, q (0, 0.25, 0.5, 0.75, 1)\n"
     ]
    }
   ],
   "source": [
    "dummy_mean_bench = LogkHCO2IDBench(DummyRegressor(),\n",
    "    name = 'dummy-mean-model',\n",
    "    features='None', \n",
    "    implementation='mofdscribe',\n",
    "    model_type='dummy'\n",
    ")"
   ]
  },
  {
   "cell_type": "code",
   "execution_count": 4,
   "metadata": {},
   "outputs": [
    {
     "name": "stderr",
     "output_type": "stream",
     "text": [
      "2022-08-09 17:40:16.686 | DEBUG    | mofdscribe.bench.mofbench:_score:317 - K-fold round 0, 1646 train points, 410 test points\n",
      "2022-08-09 17:40:16.689 | DEBUG    | mofdscribe.bench.mofbench:_score:317 - K-fold round 1, 1646 train points, 410 test points\n",
      "2022-08-09 17:40:16.691 | DEBUG    | mofdscribe.bench.mofbench:_score:317 - K-fold round 2, 1650 train points, 406 test points\n",
      "2022-08-09 17:40:16.693 | DEBUG    | mofdscribe.bench.mofbench:_score:317 - K-fold round 3, 1653 train points, 403 test points\n",
      "2022-08-09 17:40:16.695 | DEBUG    | mofdscribe.bench.mofbench:_score:317 - K-fold round 4, 1629 train points, 427 test points\n"
     ]
    }
   ],
   "source": [
    "dummy_mean_bench_results = dummy_mean_bench.bench()"
   ]
  },
  {
   "cell_type": "code",
   "execution_count": 5,
   "metadata": {},
   "outputs": [],
   "source": [
    "dummy_mean_bench_results.save_json('../../bench_results/logKH_CO2_id/v0.0.1')\n",
    "dummy_mean_bench_results.save_rst('../../bench_results/logKH_CO2_id/v0.0.1')"
   ]
  },
  {
   "cell_type": "code",
   "execution_count": 6,
   "metadata": {},
   "outputs": [
    {
     "name": "stderr",
     "output_type": "stream",
     "text": [
      "2022-08-09 17:40:22.884 | DEBUG    | mofdscribe.datasets.core_dataset:__init__:131 - Dropped 3227 duplicate basenames. New length 2166\n",
      "2022-08-09 17:40:22.914 | DEBUG    | mofdscribe.datasets.core_dataset:__init__:137 - Dropped 62 duplicate graphs. New length 2104\n",
      "2022-08-09 17:40:26.683 | DEBUG    | mofdscribe.datasets.core_dataset:__init__:131 - Dropped 3227 duplicate basenames. New length 2166\n",
      "2022-08-09 17:40:26.711 | DEBUG    | mofdscribe.datasets.core_dataset:__init__:137 - Dropped 62 duplicate graphs. New length 2104\n",
      "2022-08-09 17:40:26.747 | DEBUG    | mofdscribe.splitters.splitters:__init__:116 - Splitter settings | shuffle True, random state None, sample frac 1.0, q (0, 0.25, 0.5, 0.75, 1)\n"
     ]
    }
   ],
   "source": [
    "dummy_median_bench = LogkHCO2IDBench(DummyRegressor(),\n",
    "    name = 'dummy-median-model',\n",
    "    features='None',\n",
    "    implementation='mofdscribe',\n",
    "    model_type='dummy'\n",
    ")"
   ]
  },
  {
   "cell_type": "code",
   "execution_count": 7,
   "metadata": {},
   "outputs": [
    {
     "name": "stderr",
     "output_type": "stream",
     "text": [
      "2022-08-09 17:40:27.201 | DEBUG    | mofdscribe.bench.mofbench:_score:317 - K-fold round 0, 1650 train points, 406 test points\n",
      "2022-08-09 17:40:27.204 | DEBUG    | mofdscribe.bench.mofbench:_score:317 - K-fold round 1, 1647 train points, 409 test points\n",
      "2022-08-09 17:40:27.206 | DEBUG    | mofdscribe.bench.mofbench:_score:317 - K-fold round 2, 1640 train points, 416 test points\n",
      "2022-08-09 17:40:27.209 | DEBUG    | mofdscribe.bench.mofbench:_score:317 - K-fold round 3, 1643 train points, 413 test points\n",
      "2022-08-09 17:40:27.211 | DEBUG    | mofdscribe.bench.mofbench:_score:317 - K-fold round 4, 1644 train points, 412 test points\n"
     ]
    }
   ],
   "source": [
    "dummy_median_bench_results = dummy_median_bench.bench()"
   ]
  },
  {
   "cell_type": "code",
   "execution_count": 8,
   "metadata": {},
   "outputs": [],
   "source": [
    "dummy_median_bench_results.save_json('../../bench_results/logKH_CO2_id/v0.0.1')\n",
    "dummy_median_bench_results.save_rst('../../bench_results/logKH_CO2_id/v0.0.1')"
   ]
  },
  {
   "cell_type": "markdown",
   "metadata": {},
   "source": [
    "Now, let's use a slightly more fancy model"
   ]
  },
  {
   "cell_type": "code",
   "execution_count": 9,
   "metadata": {},
   "outputs": [
    {
     "name": "stderr",
     "output_type": "stream",
     "text": [
      "2022-08-09 17:40:44.202 | DEBUG    | mofdscribe.datasets.core_dataset:__init__:131 - Dropped 3227 duplicate basenames. New length 2166\n",
      "2022-08-09 17:40:44.298 | DEBUG    | mofdscribe.datasets.core_dataset:__init__:137 - Dropped 62 duplicate graphs. New length 2104\n",
      "2022-08-09 17:40:48.060 | DEBUG    | mofdscribe.datasets.core_dataset:__init__:131 - Dropped 3227 duplicate basenames. New length 2166\n",
      "2022-08-09 17:40:48.092 | DEBUG    | mofdscribe.datasets.core_dataset:__init__:137 - Dropped 62 duplicate graphs. New length 2104\n",
      "2022-08-09 17:40:48.130 | DEBUG    | mofdscribe.splitters.splitters:__init__:116 - Splitter settings | shuffle True, random state None, sample frac 1.0, q (0, 0.25, 0.5, 0.75, 1)\n"
     ]
    }
   ],
   "source": [
    "xgboost_default_baseline = LogkHCO2IDBench(DFModel(XGBRegressor()),\n",
    "    name=\"default-xgboost-default-feat\", \n",
    "    features='default featurset of dataset',\n",
    "    implementation='mofdscribe',\n",
    "    patch_in_ds=True\n",
    ")"
   ]
  },
  {
   "cell_type": "code",
   "execution_count": 10,
   "metadata": {},
   "outputs": [
    {
     "name": "stderr",
     "output_type": "stream",
     "text": [
      "2022-08-09 17:40:49.047 | DEBUG    | mofdscribe.bench.mofbench:_score:317 - K-fold round 0, 1638 train points, 418 test points\n",
      "2022-08-09 17:40:49.048 | DEBUG    | mofdscribe.bench.df_model:fit:36 - Fitting model\n",
      "2022-08-09 17:40:49.066 | DEBUG    | mofdscribe.bench.df_model:fit:38 - (1638, 2387)\n",
      "2022-08-09 17:41:04.405 | DEBUG    | mofdscribe.bench.mofbench:_score:317 - K-fold round 1, 1648 train points, 408 test points\n",
      "2022-08-09 17:41:04.406 | DEBUG    | mofdscribe.bench.df_model:fit:36 - Fitting model\n",
      "2022-08-09 17:41:04.426 | DEBUG    | mofdscribe.bench.df_model:fit:38 - (1648, 2387)\n",
      "2022-08-09 17:41:19.763 | DEBUG    | mofdscribe.bench.mofbench:_score:317 - K-fold round 2, 1620 train points, 436 test points\n",
      "2022-08-09 17:41:19.764 | DEBUG    | mofdscribe.bench.df_model:fit:36 - Fitting model\n",
      "2022-08-09 17:41:19.774 | DEBUG    | mofdscribe.bench.df_model:fit:38 - (1620, 2387)\n",
      "2022-08-09 17:41:39.264 | DEBUG    | mofdscribe.bench.mofbench:_score:317 - K-fold round 3, 1656 train points, 400 test points\n",
      "2022-08-09 17:41:39.265 | DEBUG    | mofdscribe.bench.df_model:fit:36 - Fitting model\n",
      "2022-08-09 17:41:39.280 | DEBUG    | mofdscribe.bench.df_model:fit:38 - (1656, 2387)\n",
      "2022-08-09 17:41:53.259 | DEBUG    | mofdscribe.bench.mofbench:_score:317 - K-fold round 4, 1662 train points, 394 test points\n",
      "2022-08-09 17:41:53.260 | DEBUG    | mofdscribe.bench.df_model:fit:36 - Fitting model\n",
      "2022-08-09 17:41:53.273 | DEBUG    | mofdscribe.bench.df_model:fit:38 - (1662, 2387)\n"
     ]
    }
   ],
   "source": [
    "xgboost_default_baseline_results = xgboost_default_baseline.bench()"
   ]
  },
  {
   "cell_type": "code",
   "execution_count": null,
   "metadata": {},
   "outputs": [],
   "source": [
    "xgboost_default_baseline_results.save_json('../../bench_results/logKH_CO2_id/v0.0.1')\n",
    "xgboost_default_baseline_results.save_rst('../../bench_results/logKH_CO2_id/v0.0.1')"
   ]
  },
  {
   "cell_type": "code",
   "execution_count": null,
   "metadata": {},
   "outputs": [],
   "source": []
  }
 ],
 "metadata": {
  "kernelspec": {
   "display_name": "Python 3.8.13 ('mofdscribe')",
   "language": "python",
   "name": "python3"
  },
  "language_info": {
   "codemirror_mode": {
    "name": "ipython",
    "version": 3
   },
   "file_extension": ".py",
   "mimetype": "text/x-python",
   "name": "python",
   "nbconvert_exporter": "python",
   "pygments_lexer": "ipython3",
   "version": "3.8.13"
  },
  "orig_nbformat": 4,
  "vscode": {
   "interpreter": {
    "hash": "3ffc06f754d7c80b59e39914e7792f1f92938dc6ca13a8ff96847f8f4d27fee3"
   }
  }
 },
 "nbformat": 4,
 "nbformat_minor": 2
}
