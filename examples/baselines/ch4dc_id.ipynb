{
 "cells": [
  {
   "cell_type": "markdown",
   "metadata": {},
   "source": [
    "# Running MOFBench baselines for the `ch4dc_id` task"
   ]
  },
  {
   "cell_type": "code",
   "execution_count": 1,
   "metadata": {},
   "outputs": [],
   "source": [
    "%load_ext autoreload\n",
    "%autoreload 2"
   ]
  },
  {
   "cell_type": "code",
   "execution_count": 5,
   "metadata": {},
   "outputs": [],
   "source": [
    "from mofdscribe.bench.dummy_models import DummyRegressor\n",
    "from mofdscribe.bench.df_model import DFModel\n",
    "from mofdscribe.bench.ch4dc import CH4DCIDBench\n",
    "\n",
    "from xgboost import XGBRegressor"
   ]
  },
  {
   "cell_type": "code",
   "execution_count": 6,
   "metadata": {},
   "outputs": [
    {
     "name": "stderr",
     "output_type": "stream",
     "text": [
      "2022-08-10 09:04:43.219 | DEBUG    | mofdscribe.datasets.core_dataset:__init__:131 - Dropped 3227 duplicate basenames. New length 2166\n",
      "2022-08-10 09:04:43.345 | DEBUG    | mofdscribe.datasets.core_dataset:__init__:137 - Dropped 62 duplicate graphs. New length 2104\n",
      "2022-08-10 09:04:47.952 | DEBUG    | mofdscribe.datasets.core_dataset:__init__:131 - Dropped 3227 duplicate basenames. New length 2166\n",
      "2022-08-10 09:04:47.987 | DEBUG    | mofdscribe.datasets.core_dataset:__init__:137 - Dropped 62 duplicate graphs. New length 2104\n",
      "2022-08-10 09:04:48.029 | DEBUG    | mofdscribe.splitters.splitters:__init__:116 - Splitter settings | shuffle True, random state None, sample frac 1.0, q (0, 0.25, 0.5, 0.75, 1)\n"
     ]
    }
   ],
   "source": [
    "dummy_mean_bench = CH4DCIDBench(DummyRegressor(),\n",
    "    name = 'dummy-mean-model',\n",
    "    features='None', \n",
    "    implementation='mofdscribe',\n",
    "    model_type='dummy'\n",
    ")"
   ]
  },
  {
   "cell_type": "code",
   "execution_count": 7,
   "metadata": {},
   "outputs": [
    {
     "name": "stderr",
     "output_type": "stream",
     "text": [
      "2022-08-10 09:04:48.497 | DEBUG    | mofdscribe.bench.mofbench:_score:322 - K-fold round 0, 1660 train points, 396 test points\n",
      "2022-08-10 09:04:48.500 | DEBUG    | mofdscribe.bench.mofbench:_score:322 - K-fold round 1, 1655 train points, 401 test points\n",
      "2022-08-10 09:04:48.503 | DEBUG    | mofdscribe.bench.mofbench:_score:322 - K-fold round 2, 1651 train points, 405 test points\n",
      "2022-08-10 09:04:48.506 | DEBUG    | mofdscribe.bench.mofbench:_score:322 - K-fold round 3, 1624 train points, 432 test points\n",
      "2022-08-10 09:04:48.510 | DEBUG    | mofdscribe.bench.mofbench:_score:322 - K-fold round 4, 1634 train points, 422 test points\n"
     ]
    }
   ],
   "source": [
    "dummy_mean_bench_results = dummy_mean_bench.bench()"
   ]
  },
  {
   "cell_type": "code",
   "execution_count": 10,
   "metadata": {},
   "outputs": [],
   "source": [
    "dummy_mean_bench_results.save_json('../../bench_results/ch4dc_id/v0.0.1')\n",
    "dummy_mean_bench_results.save_rst('../../bench_results/ch4dc_id/v0.0.1')"
   ]
  },
  {
   "cell_type": "code",
   "execution_count": 13,
   "metadata": {},
   "outputs": [
    {
     "name": "stderr",
     "output_type": "stream",
     "text": [
      "2022-08-10 09:18:10.275 | DEBUG    | mofdscribe.datasets.core_dataset:__init__:131 - Dropped 3227 duplicate basenames. New length 2166\n",
      "2022-08-10 09:18:10.310 | DEBUG    | mofdscribe.datasets.core_dataset:__init__:137 - Dropped 62 duplicate graphs. New length 2104\n",
      "2022-08-10 09:18:15.011 | DEBUG    | mofdscribe.datasets.core_dataset:__init__:131 - Dropped 3227 duplicate basenames. New length 2166\n",
      "2022-08-10 09:18:15.119 | DEBUG    | mofdscribe.datasets.core_dataset:__init__:137 - Dropped 62 duplicate graphs. New length 2104\n",
      "2022-08-10 09:18:15.160 | DEBUG    | mofdscribe.splitters.splitters:__init__:116 - Splitter settings | shuffle True, random state None, sample frac 1.0, q (0, 0.25, 0.5, 0.75, 1)\n"
     ]
    }
   ],
   "source": [
    "dummy_median_bench = CH4DCIDBench(DummyRegressor(),\n",
    "    name = 'dummy-median-model',\n",
    "    features='None',\n",
    "    implementation='mofdscribe',\n",
    "    model_type='dummy'\n",
    ")"
   ]
  },
  {
   "cell_type": "code",
   "execution_count": 14,
   "metadata": {},
   "outputs": [
    {
     "name": "stderr",
     "output_type": "stream",
     "text": [
      "2022-08-10 09:18:15.668 | DEBUG    | mofdscribe.bench.mofbench:_score:322 - K-fold round 0, 1650 train points, 406 test points\n",
      "2022-08-10 09:18:15.671 | DEBUG    | mofdscribe.bench.mofbench:_score:322 - K-fold round 1, 1655 train points, 401 test points\n",
      "2022-08-10 09:18:15.674 | DEBUG    | mofdscribe.bench.mofbench:_score:322 - K-fold round 2, 1627 train points, 429 test points\n",
      "2022-08-10 09:18:15.676 | DEBUG    | mofdscribe.bench.mofbench:_score:322 - K-fold round 3, 1647 train points, 409 test points\n",
      "2022-08-10 09:18:15.679 | DEBUG    | mofdscribe.bench.mofbench:_score:322 - K-fold round 4, 1645 train points, 411 test points\n"
     ]
    }
   ],
   "source": [
    "dummy_median_bench_results = dummy_median_bench.bench()"
   ]
  },
  {
   "cell_type": "code",
   "execution_count": 15,
   "metadata": {},
   "outputs": [],
   "source": [
    "dummy_median_bench_results.save_json('../../bench_results/ch4dc_id/v0.0.1')\n",
    "dummy_median_bench_results.save_rst('../../bench_results/ch4dc_id/v0.0.1')"
   ]
  },
  {
   "cell_type": "markdown",
   "metadata": {},
   "source": [
    "Now, let's use a slightly more fancy model"
   ]
  },
  {
   "cell_type": "code",
   "execution_count": 17,
   "metadata": {},
   "outputs": [
    {
     "name": "stderr",
     "output_type": "stream",
     "text": [
      "2022-08-10 09:21:48.157 | DEBUG    | mofdscribe.datasets.core_dataset:__init__:131 - Dropped 3227 duplicate basenames. New length 2166\n",
      "2022-08-10 09:21:48.322 | DEBUG    | mofdscribe.datasets.core_dataset:__init__:137 - Dropped 62 duplicate graphs. New length 2104\n",
      "2022-08-10 09:21:59.037 | DEBUG    | mofdscribe.datasets.core_dataset:__init__:131 - Dropped 3227 duplicate basenames. New length 2166\n",
      "2022-08-10 09:21:59.077 | DEBUG    | mofdscribe.datasets.core_dataset:__init__:137 - Dropped 62 duplicate graphs. New length 2104\n",
      "2022-08-10 09:21:59.130 | DEBUG    | mofdscribe.splitters.splitters:__init__:116 - Splitter settings | shuffle True, random state None, sample frac 1.0, q (0, 0.25, 0.5, 0.75, 1)\n"
     ]
    }
   ],
   "source": [
    "xgboost_default_baseline = CH4DCIDBench(DFModel(XGBRegressor()),\n",
    "    name=\"default-xgboost-default-feat\", \n",
    "    features='default featurset of dataset',\n",
    "    implementation='mofdscribe',\n",
    "    patch_in_ds=True\n",
    ")"
   ]
  },
  {
   "cell_type": "code",
   "execution_count": 18,
   "metadata": {},
   "outputs": [
    {
     "name": "stderr",
     "output_type": "stream",
     "text": [
      "2022-08-10 09:22:04.037 | DEBUG    | mofdscribe.bench.mofbench:_score:322 - K-fold round 0, 1650 train points, 406 test points\n",
      "2022-08-10 09:22:04.039 | DEBUG    | mofdscribe.bench.df_model:fit:36 - Fitting model\n",
      "2022-08-10 09:22:04.108 | DEBUG    | mofdscribe.bench.df_model:fit:38 - (1650, 2387)\n",
      "2022-08-10 09:22:14.406 | DEBUG    | mofdscribe.bench.mofbench:_score:322 - K-fold round 1, 1647 train points, 409 test points\n",
      "2022-08-10 09:22:14.409 | DEBUG    | mofdscribe.bench.df_model:fit:36 - Fitting model\n",
      "2022-08-10 09:22:14.420 | DEBUG    | mofdscribe.bench.df_model:fit:38 - (1647, 2387)\n",
      "2022-08-10 09:22:25.276 | DEBUG    | mofdscribe.bench.mofbench:_score:322 - K-fold round 2, 1621 train points, 435 test points\n",
      "2022-08-10 09:22:25.277 | DEBUG    | mofdscribe.bench.df_model:fit:36 - Fitting model\n",
      "2022-08-10 09:22:25.288 | DEBUG    | mofdscribe.bench.df_model:fit:38 - (1621, 2387)\n",
      "2022-08-10 09:22:33.750 | DEBUG    | mofdscribe.bench.mofbench:_score:322 - K-fold round 3, 1647 train points, 409 test points\n",
      "2022-08-10 09:22:33.751 | DEBUG    | mofdscribe.bench.df_model:fit:36 - Fitting model\n",
      "2022-08-10 09:22:33.762 | DEBUG    | mofdscribe.bench.df_model:fit:38 - (1647, 2387)\n",
      "2022-08-10 09:22:41.254 | DEBUG    | mofdscribe.bench.mofbench:_score:322 - K-fold round 4, 1659 train points, 397 test points\n",
      "2022-08-10 09:22:41.255 | DEBUG    | mofdscribe.bench.df_model:fit:36 - Fitting model\n",
      "2022-08-10 09:22:41.267 | DEBUG    | mofdscribe.bench.df_model:fit:38 - (1659, 2387)\n"
     ]
    }
   ],
   "source": [
    "xgboost_default_baseline_results = xgboost_default_baseline.bench()"
   ]
  },
  {
   "cell_type": "code",
   "execution_count": 11,
   "metadata": {},
   "outputs": [],
   "source": [
    "xgboost_default_baseline_results.save_json('../../bench_results/ch4dc_id/v0.0.1')\n",
    "xgboost_default_baseline_results.save_rst('../../bench_results/ch4dc_id/v0.0.1')"
   ]
  },
  {
   "cell_type": "code",
   "execution_count": null,
   "metadata": {},
   "outputs": [],
   "source": []
  }
 ],
 "metadata": {
  "kernelspec": {
   "display_name": "Python 3.8.13 ('mofdscribe')",
   "language": "python",
   "name": "python3"
  },
  "language_info": {
   "codemirror_mode": {
    "name": "ipython",
    "version": 3
   },
   "file_extension": ".py",
   "mimetype": "text/x-python",
   "name": "python",
   "nbconvert_exporter": "python",
   "pygments_lexer": "ipython3",
   "version": "3.8.13"
  },
  "orig_nbformat": 4,
  "vscode": {
   "interpreter": {
    "hash": "3ffc06f754d7c80b59e39914e7792f1f92938dc6ca13a8ff96847f8f4d27fee3"
   }
  }
 },
 "nbformat": 4,
 "nbformat_minor": 2
}
