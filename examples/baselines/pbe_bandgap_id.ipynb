{
 "cells": [
  {
   "cell_type": "markdown",
   "metadata": {},
   "source": [
    "# Running MOFBench baselines for the `pbe_bandgap_id` task"
   ]
  },
  {
   "cell_type": "code",
   "execution_count": 1,
   "metadata": {},
   "outputs": [],
   "source": [
    "%load_ext autoreload\n",
    "%autoreload 2"
   ]
  },
  {
   "cell_type": "code",
   "execution_count": 2,
   "metadata": {},
   "outputs": [],
   "source": [
    "from mofdscribe.bench.dummy_models import DummyRegressor\n",
    "from mofdscribe.bench.df_model import DFModel\n",
    "from mofdscribe.bench.pbegap import PBEBandGapIDBench\n",
    "\n",
    "from xgboost import XGBRegressor"
   ]
  },
  {
   "cell_type": "code",
   "execution_count": 3,
   "metadata": {},
   "outputs": [
    {
     "name": "stderr",
     "output_type": "stream",
     "text": [
      "2022-08-09 17:46:19.833 | DEBUG    | mofdscribe.datasets.qmof_dataset:__init__:256 - Dropped 0 duplicate basenames. New length 15042\n",
      "2022-08-09 17:46:19.912 | DEBUG    | mofdscribe.datasets.qmof_dataset:__init__:262 - Dropped 136 duplicate graphs. New length 14906\n",
      "2022-08-09 17:46:32.448 | DEBUG    | mofdscribe.datasets.qmof_dataset:__init__:256 - Dropped 0 duplicate basenames. New length 15042\n",
      "2022-08-09 17:46:32.537 | DEBUG    | mofdscribe.datasets.qmof_dataset:__init__:262 - Dropped 136 duplicate graphs. New length 14906\n",
      "2022-08-09 17:46:32.790 | DEBUG    | mofdscribe.splitters.splitters:__init__:116 - Splitter settings | shuffle True, random state None, sample frac 1.0, q (0, 0.25, 0.5, 0.75, 1)\n"
     ]
    }
   ],
   "source": [
    "dummy_mean_bench = PBEBandGapIDBench(DummyRegressor(),\n",
    "    name = 'dummy-mean-model',\n",
    "    features='None', \n",
    "    implementation='mofdscribe',\n",
    "    model_type='dummy'\n",
    ")"
   ]
  },
  {
   "cell_type": "code",
   "execution_count": 4,
   "metadata": {},
   "outputs": [
    {
     "name": "stderr",
     "output_type": "stream",
     "text": [
      "2022-08-09 17:46:33.077 | DEBUG    | mofdscribe.bench.mofbench:_score:317 - K-fold round 0, 1018 train points, 255 test points\n",
      "2022-08-09 17:46:33.080 | DEBUG    | mofdscribe.bench.mofbench:_score:317 - K-fold round 1, 1025 train points, 248 test points\n",
      "2022-08-09 17:46:33.082 | DEBUG    | mofdscribe.bench.mofbench:_score:317 - K-fold round 2, 1021 train points, 252 test points\n",
      "2022-08-09 17:46:33.084 | DEBUG    | mofdscribe.bench.mofbench:_score:317 - K-fold round 3, 1032 train points, 241 test points\n",
      "2022-08-09 17:46:33.085 | DEBUG    | mofdscribe.bench.mofbench:_score:317 - K-fold round 4, 996 train points, 277 test points\n"
     ]
    }
   ],
   "source": [
    "dummy_mean_bench_results = dummy_mean_bench.bench()"
   ]
  },
  {
   "cell_type": "code",
   "execution_count": 5,
   "metadata": {},
   "outputs": [],
   "source": [
    "dummy_mean_bench_results.save_json('../../bench_results/pbe_bandgap_id/v0.0.1')\n",
    "dummy_mean_bench_results.save_rst('../../bench_results/pbe_bandgap_id/v0.0.1')"
   ]
  },
  {
   "cell_type": "code",
   "execution_count": 6,
   "metadata": {},
   "outputs": [
    {
     "name": "stderr",
     "output_type": "stream",
     "text": [
      "2022-08-09 17:46:46.728 | DEBUG    | mofdscribe.datasets.qmof_dataset:__init__:256 - Dropped 0 duplicate basenames. New length 15042\n",
      "2022-08-09 17:46:46.808 | DEBUG    | mofdscribe.datasets.qmof_dataset:__init__:262 - Dropped 136 duplicate graphs. New length 14906\n",
      "2022-08-09 17:47:00.702 | DEBUG    | mofdscribe.datasets.qmof_dataset:__init__:256 - Dropped 0 duplicate basenames. New length 15042\n",
      "2022-08-09 17:47:00.928 | DEBUG    | mofdscribe.datasets.qmof_dataset:__init__:262 - Dropped 136 duplicate graphs. New length 14906\n",
      "2022-08-09 17:47:01.184 | DEBUG    | mofdscribe.splitters.splitters:__init__:116 - Splitter settings | shuffle True, random state None, sample frac 1.0, q (0, 0.25, 0.5, 0.75, 1)\n"
     ]
    }
   ],
   "source": [
    "dummy_median_bench = PBEBandGapIDBench(DummyRegressor(),\n",
    "    name = 'dummy-median-model',\n",
    "    features='None',\n",
    "    implementation='mofdscribe',\n",
    "    model_type='dummy'\n",
    ")"
   ]
  },
  {
   "cell_type": "code",
   "execution_count": 7,
   "metadata": {},
   "outputs": [
    {
     "name": "stderr",
     "output_type": "stream",
     "text": [
      "2022-08-09 17:47:01.440 | DEBUG    | mofdscribe.bench.mofbench:_score:317 - K-fold round 0, 1031 train points, 242 test points\n",
      "2022-08-09 17:47:01.443 | DEBUG    | mofdscribe.bench.mofbench:_score:317 - K-fold round 1, 1013 train points, 260 test points\n",
      "2022-08-09 17:47:01.446 | DEBUG    | mofdscribe.bench.mofbench:_score:317 - K-fold round 2, 1012 train points, 261 test points\n",
      "2022-08-09 17:47:01.449 | DEBUG    | mofdscribe.bench.mofbench:_score:317 - K-fold round 3, 1020 train points, 253 test points\n",
      "2022-08-09 17:47:01.452 | DEBUG    | mofdscribe.bench.mofbench:_score:317 - K-fold round 4, 1016 train points, 257 test points\n"
     ]
    }
   ],
   "source": [
    "dummy_median_bench_results = dummy_median_bench.bench()"
   ]
  },
  {
   "cell_type": "code",
   "execution_count": 8,
   "metadata": {},
   "outputs": [],
   "source": [
    "dummy_median_bench_results.save_json('../../bench_results/pbe_bandgap_id/v0.0.1')\n",
    "dummy_median_bench_results.save_rst('../../bench_results/pbe_bandgap_id/v0.0.1')"
   ]
  },
  {
   "cell_type": "markdown",
   "metadata": {},
   "source": [
    "Now, let's use a slightly more fancy model"
   ]
  },
  {
   "cell_type": "code",
   "execution_count": 9,
   "metadata": {},
   "outputs": [
    {
     "name": "stderr",
     "output_type": "stream",
     "text": [
      "2022-08-09 17:47:13.381 | DEBUG    | mofdscribe.datasets.qmof_dataset:__init__:256 - Dropped 0 duplicate basenames. New length 15042\n",
      "2022-08-09 17:47:13.535 | DEBUG    | mofdscribe.datasets.qmof_dataset:__init__:262 - Dropped 136 duplicate graphs. New length 14906\n",
      "2022-08-09 17:47:24.911 | DEBUG    | mofdscribe.datasets.qmof_dataset:__init__:256 - Dropped 0 duplicate basenames. New length 15042\n",
      "2022-08-09 17:47:24.992 | DEBUG    | mofdscribe.datasets.qmof_dataset:__init__:262 - Dropped 136 duplicate graphs. New length 14906\n",
      "2022-08-09 17:47:25.238 | DEBUG    | mofdscribe.splitters.splitters:__init__:116 - Splitter settings | shuffle True, random state None, sample frac 1.0, q (0, 0.25, 0.5, 0.75, 1)\n"
     ]
    }
   ],
   "source": [
    "xgboost_default_baseline = PBEBandGapIDBench(DFModel(XGBRegressor()),\n",
    "    name=\"default-xgboost-default-feat\", \n",
    "    features='default featurset of dataset',\n",
    "    implementation='mofdscribe',\n",
    "    patch_in_ds=True\n",
    ")"
   ]
  },
  {
   "cell_type": "code",
   "execution_count": 10,
   "metadata": {},
   "outputs": [
    {
     "name": "stderr",
     "output_type": "stream",
     "text": [
      "2022-08-09 17:47:25.481 | DEBUG    | mofdscribe.bench.mofbench:_score:317 - K-fold round 0, 1019 train points, 254 test points\n",
      "2022-08-09 17:47:25.482 | DEBUG    | mofdscribe.bench.df_model:fit:36 - Fitting model\n",
      "2022-08-09 17:47:25.494 | DEBUG    | mofdscribe.bench.df_model:fit:38 - (1019, 2387)\n",
      "2022-08-09 17:47:35.028 | DEBUG    | mofdscribe.bench.mofbench:_score:317 - K-fold round 1, 1005 train points, 268 test points\n",
      "2022-08-09 17:47:35.029 | DEBUG    | mofdscribe.bench.df_model:fit:36 - Fitting model\n",
      "2022-08-09 17:47:35.039 | DEBUG    | mofdscribe.bench.df_model:fit:38 - (1005, 2387)\n",
      "2022-08-09 17:47:45.257 | DEBUG    | mofdscribe.bench.mofbench:_score:317 - K-fold round 2, 1016 train points, 257 test points\n",
      "2022-08-09 17:47:45.259 | DEBUG    | mofdscribe.bench.df_model:fit:36 - Fitting model\n",
      "2022-08-09 17:47:45.270 | DEBUG    | mofdscribe.bench.df_model:fit:38 - (1016, 2387)\n",
      "2022-08-09 17:47:53.790 | DEBUG    | mofdscribe.bench.mofbench:_score:317 - K-fold round 3, 1018 train points, 255 test points\n",
      "2022-08-09 17:47:53.791 | DEBUG    | mofdscribe.bench.df_model:fit:36 - Fitting model\n",
      "2022-08-09 17:47:53.802 | DEBUG    | mofdscribe.bench.df_model:fit:38 - (1018, 2387)\n",
      "2022-08-09 17:48:03.535 | DEBUG    | mofdscribe.bench.mofbench:_score:317 - K-fold round 4, 1034 train points, 239 test points\n",
      "2022-08-09 17:48:03.535 | DEBUG    | mofdscribe.bench.df_model:fit:36 - Fitting model\n",
      "2022-08-09 17:48:03.546 | DEBUG    | mofdscribe.bench.df_model:fit:38 - (1034, 2387)\n"
     ]
    }
   ],
   "source": [
    "xgboost_default_baseline_results = xgboost_default_baseline.bench()"
   ]
  },
  {
   "cell_type": "code",
   "execution_count": 11,
   "metadata": {},
   "outputs": [],
   "source": [
    "xgboost_default_baseline_results.save_json('../../bench_results/pbe_bandgap_id/v0.0.1')\n",
    "xgboost_default_baseline_results.save_rst('../../bench_results/pbe_bandgap_id/v0.0.1')"
   ]
  },
  {
   "cell_type": "code",
   "execution_count": null,
   "metadata": {},
   "outputs": [],
   "source": []
  }
 ],
 "metadata": {
  "kernelspec": {
   "display_name": "Python 3.8.13 ('mofdscribe')",
   "language": "python",
   "name": "python3"
  },
  "language_info": {
   "codemirror_mode": {
    "name": "ipython",
    "version": 3
   },
   "file_extension": ".py",
   "mimetype": "text/x-python",
   "name": "python",
   "nbconvert_exporter": "python",
   "pygments_lexer": "ipython3",
   "version": "3.8.13"
  },
  "orig_nbformat": 4,
  "vscode": {
   "interpreter": {
    "hash": "3ffc06f754d7c80b59e39914e7792f1f92938dc6ca13a8ff96847f8f4d27fee3"
   }
  }
 },
 "nbformat": 4,
 "nbformat_minor": 2
}
